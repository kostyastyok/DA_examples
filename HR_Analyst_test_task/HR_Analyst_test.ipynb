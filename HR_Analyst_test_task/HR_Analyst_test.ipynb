{
 "cells": [
  {
   "cell_type": "markdown",
   "id": "ac4e6fbf",
   "metadata": {
    "toc": true
   },
   "source": [
    "<h1>Содержание<span class=\"tocSkip\"></span></h1>\n",
    "<div class=\"toc\"><ul class=\"toc-item\"><li><span><a href=\"#Задача\" data-toc-modified-id=\"Задача-1\"><span class=\"toc-item-num\">1&nbsp;&nbsp;</span>Задача</a></span></li><li><span><a href=\"#Импорт-библиотек-и-загрузка-файлов\" data-toc-modified-id=\"Импорт-библиотек-и-загрузка-файлов-2\"><span class=\"toc-item-num\">2&nbsp;&nbsp;</span>Импорт библиотек и загрузка файлов</a></span></li><li><span><a href=\"#Предобработка-данных\" data-toc-modified-id=\"Предобработка-данных-3\"><span class=\"toc-item-num\">3&nbsp;&nbsp;</span>Предобработка данных</a></span></li><li><span><a href=\"#Анализ-данных\" data-toc-modified-id=\"Анализ-данных-4\"><span class=\"toc-item-num\">4&nbsp;&nbsp;</span>Анализ данных</a></span><ul class=\"toc-item\"><li><span><a href=\"#Грейд-сотрудников\" data-toc-modified-id=\"Грейд-сотрудников-4.1\"><span class=\"toc-item-num\">4.1&nbsp;&nbsp;</span>Грейд сотрудников</a></span></li><li><span><a href=\"#Satisfaction_mark\" data-toc-modified-id=\"Satisfaction_mark-4.2\"><span class=\"toc-item-num\">4.2&nbsp;&nbsp;</span>Satisfaction_mark</a></span><ul class=\"toc-item\"><li><span><a href=\"#Тест-Стьюдента-для-связанных-выборок\" data-toc-modified-id=\"Тест-Стьюдента-для-связанных-выборок-4.2.1\"><span class=\"toc-item-num\">4.2.1&nbsp;&nbsp;</span>Тест Стьюдента для связанных выборок</a></span></li><li><span><a href=\"#Тест-Уилкинсона-для-связанных-выборок\" data-toc-modified-id=\"Тест-Уилкинсона-для-связанных-выборок-4.2.2\"><span class=\"toc-item-num\">4.2.2&nbsp;&nbsp;</span>Тест Уилкинсона для связанных выборок</a></span></li><li><span><a href=\"#Пуасоновский-бустрап\" data-toc-modified-id=\"Пуасоновский-бустрап-4.2.3\"><span class=\"toc-item-num\">4.2.3&nbsp;&nbsp;</span>Пуасоновский бустрап</a></span></li></ul></li><li><span><a href=\"#Детальный-анализ-satisfaction_mark\" data-toc-modified-id=\"Детальный-анализ-satisfaction_mark-4.3\"><span class=\"toc-item-num\">4.3&nbsp;&nbsp;</span>Детальный анализ satisfaction_mark</a></span><ul class=\"toc-item\"><li><span><a href=\"#Анализ-satisfaction_mark-по-грейдам\" data-toc-modified-id=\"Анализ-satisfaction_mark-по-грейдам-4.3.1\"><span class=\"toc-item-num\">4.3.1&nbsp;&nbsp;</span>Анализ satisfaction_mark по грейдам</a></span></li><li><span><a href=\"#Анализ-satisfaction_mark-в-разрезе-повышения\" data-toc-modified-id=\"Анализ-satisfaction_mark-в-разрезе-повышения-4.3.2\"><span class=\"toc-item-num\">4.3.2&nbsp;&nbsp;</span>Анализ satisfaction_mark в разрезе повышения</a></span></li><li><span><a href=\"#Анализ-satisfaction_mark-в-разрезе-факта-повышения-и-грейда\" data-toc-modified-id=\"Анализ-satisfaction_mark-в-разрезе-факта-повышения-и-грейда-4.3.3\"><span class=\"toc-item-num\">4.3.3&nbsp;&nbsp;</span>Анализ satisfaction_mark в разрезе факта повышения и грейда</a></span></li></ul></li><li><span><a href=\"#Проверим-уволенных-сотрудников:\" data-toc-modified-id=\"Проверим-уволенных-сотрудников:-4.4\"><span class=\"toc-item-num\">4.4&nbsp;&nbsp;</span>Проверим уволенных сотрудников:</a></span></li></ul></li><li><span><a href=\"#Вывод\" data-toc-modified-id=\"Вывод-5\"><span class=\"toc-item-num\">5&nbsp;&nbsp;</span>Вывод</a></span></li></ul></div>"
   ]
  },
  {
   "cell_type": "markdown",
   "id": "f52b4502",
   "metadata": {},
   "source": [
    "# Задача"
   ]
  },
  {
   "cell_type": "markdown",
   "id": "c7f23e8d",
   "metadata": {},
   "source": [
    "В конце 2020 года в компании ввели процесс регулярной оценки профессиональных навыков сотрудников - Performance Review - с последующим принятием решений о степени соответствия занимаемого сотрудником уровня должности.\n",
    "\n",
    "Доступны 2 листа данных: за 2020 год (до внедрения Performance Review в компании) и за 2021 год (после внедрения Performance Review в компании). Данные представляют собой набор сведений об изменениях / отсутствии изменений в Grade по каждому работающему в указанный год сотруднику.\n",
    "\n",
    "**Данные представлены в следующем формате:**\n",
    "\n",
    "- Employee - имя сотрудника.\n",
    "\n",
    "- Department - отдел сотрудника.\n",
    "\n",
    "- Grade Before - уровень должности до повышения сотрудника (Junior / Middle / Senior / High-Senior).\n",
    "\n",
    "- Grade After - уровень должности после повышения сотрудника (Junior / Middle / Senior / High-Senior).\n",
    "\n",
    "- Satisfaction Mark - оценка от сотрудника о справедливости занимаемого им grade; собирается в ходе проведения опроса удовлетворенности на конец года, за который предоставляются данные, или на момент увольнения, если увольнение произошло в том же году.\n",
    "\n",
    "- Date of Dismissal - дата увольнения, если сотрудник не работает в компании на текущий момент.\n",
    "\n",
    "\n",
    "**Вопросы:**\n",
    "\n",
    "1. Какие HR показатели Вы могли бы рассчитать / какие гипотезы могли бы проверить, основываясь на указанных данных?\n",
    "\n",
    "2. Опишите методологию расчета указанных показателей / метод тестирования, которым бы проверяли указанные гипотезы.\n",
    "\n",
    "3. Приведите пример кода в R / Python, который бы рассчитывал и визуализировал результаты расчетов.\n",
    "\n",
    "4. Основываясь на указанных типах данных, могли бы Вы сделать заключение о пользе внедрения Performance Review в компании? Если нет, какой информации Вам не хватает / какие дополнительные замеры Вы хотели бы произвести?"
   ]
  },
  {
   "cell_type": "markdown",
   "id": "c256d9e4",
   "metadata": {},
   "source": [
    "# Импорт библиотек и загрузка файлов"
   ]
  },
  {
   "cell_type": "code",
   "execution_count": 1,
   "id": "3e7f6ae0",
   "metadata": {},
   "outputs": [],
   "source": [
    "import pandas as pd\n",
    "import datetime as dt\n",
    "import numpy as np\n",
    "import matplotlib.pyplot as plt\n",
    "import seaborn as sns\n",
    "from scipy import stats \n",
    "import random\n",
    "    \n",
    "pd.options.display.float_format ='{:,.2f}'.format\n",
    "\n",
    "import warnings\n",
    "warnings.filterwarnings('ignore')"
   ]
  },
  {
   "cell_type": "markdown",
   "id": "f8de7fdf",
   "metadata": {},
   "source": [
    "Выгрузим данные:"
   ]
  },
  {
   "cell_type": "code",
   "execution_count": 2,
   "id": "7c695412",
   "metadata": {},
   "outputs": [
    {
     "data": {
      "text/html": [
       "<div>\n",
       "<style scoped>\n",
       "    .dataframe tbody tr th:only-of-type {\n",
       "        vertical-align: middle;\n",
       "    }\n",
       "\n",
       "    .dataframe tbody tr th {\n",
       "        vertical-align: top;\n",
       "    }\n",
       "\n",
       "    .dataframe thead th {\n",
       "        text-align: right;\n",
       "    }\n",
       "</style>\n",
       "<table border=\"1\" class=\"dataframe\">\n",
       "  <thead>\n",
       "    <tr style=\"text-align: right;\">\n",
       "      <th></th>\n",
       "      <th>Employee</th>\n",
       "      <th>Department</th>\n",
       "      <th>Grade Before</th>\n",
       "      <th>Grade After</th>\n",
       "      <th>Satisfaction Mark</th>\n",
       "      <th>Date of Dismissal</th>\n",
       "    </tr>\n",
       "  </thead>\n",
       "  <tbody>\n",
       "    <tr>\n",
       "      <th>0</th>\n",
       "      <td>Employee 1</td>\n",
       "      <td>Unit 1</td>\n",
       "      <td>Middle</td>\n",
       "      <td>Middle</td>\n",
       "      <td>10</td>\n",
       "      <td>NaT</td>\n",
       "    </tr>\n",
       "    <tr>\n",
       "      <th>1</th>\n",
       "      <td>Employee 2</td>\n",
       "      <td>Unit 1</td>\n",
       "      <td>Junior</td>\n",
       "      <td>Middle</td>\n",
       "      <td>8</td>\n",
       "      <td>NaT</td>\n",
       "    </tr>\n",
       "    <tr>\n",
       "      <th>2</th>\n",
       "      <td>Employee 3</td>\n",
       "      <td>Unit 1</td>\n",
       "      <td>Middle</td>\n",
       "      <td>Senior</td>\n",
       "      <td>7</td>\n",
       "      <td>NaT</td>\n",
       "    </tr>\n",
       "    <tr>\n",
       "      <th>3</th>\n",
       "      <td>Employee 4</td>\n",
       "      <td>Unit 1</td>\n",
       "      <td>Junior</td>\n",
       "      <td>Middle</td>\n",
       "      <td>9</td>\n",
       "      <td>NaT</td>\n",
       "    </tr>\n",
       "    <tr>\n",
       "      <th>4</th>\n",
       "      <td>Employee 5</td>\n",
       "      <td>Unit 1</td>\n",
       "      <td>Junior</td>\n",
       "      <td>Middle</td>\n",
       "      <td>2</td>\n",
       "      <td>2020-10-08</td>\n",
       "    </tr>\n",
       "  </tbody>\n",
       "</table>\n",
       "</div>"
      ],
      "text/plain": [
       "     Employee Department Grade Before Grade After  Satisfaction Mark  \\\n",
       "0  Employee 1     Unit 1       Middle      Middle                 10   \n",
       "1  Employee 2     Unit 1       Junior      Middle                  8   \n",
       "2  Employee 3     Unit 1       Middle      Senior                  7   \n",
       "3  Employee 4     Unit 1       Junior      Middle                  9   \n",
       "4  Employee 5     Unit 1       Junior      Middle                  2   \n",
       "\n",
       "  Date of Dismissal  \n",
       "0               NaT  \n",
       "1               NaT  \n",
       "2               NaT  \n",
       "3               NaT  \n",
       "4        2020-10-08  "
      ]
     },
     "execution_count": 2,
     "metadata": {},
     "output_type": "execute_result"
    }
   ],
   "source": [
    "df_20 = pd.read_excel('data_g5.xlsx',sheet_name = '2020')\n",
    "df_21 = pd.read_excel('data_g5.xlsx',sheet_name = '2021')\n",
    "df_20.head()"
   ]
  },
  {
   "cell_type": "code",
   "execution_count": 3,
   "id": "39527150",
   "metadata": {},
   "outputs": [
    {
     "data": {
      "text/html": [
       "<div>\n",
       "<style scoped>\n",
       "    .dataframe tbody tr th:only-of-type {\n",
       "        vertical-align: middle;\n",
       "    }\n",
       "\n",
       "    .dataframe tbody tr th {\n",
       "        vertical-align: top;\n",
       "    }\n",
       "\n",
       "    .dataframe thead th {\n",
       "        text-align: right;\n",
       "    }\n",
       "</style>\n",
       "<table border=\"1\" class=\"dataframe\">\n",
       "  <thead>\n",
       "    <tr style=\"text-align: right;\">\n",
       "      <th></th>\n",
       "      <th>Employee</th>\n",
       "      <th>Department</th>\n",
       "      <th>Grade Before</th>\n",
       "      <th>Grade After</th>\n",
       "      <th>Satisfaction Mark</th>\n",
       "      <th>Date of Dismissal</th>\n",
       "    </tr>\n",
       "  </thead>\n",
       "  <tbody>\n",
       "    <tr>\n",
       "      <th>0</th>\n",
       "      <td>Employee 1</td>\n",
       "      <td>Unit 1</td>\n",
       "      <td>Middle</td>\n",
       "      <td>Middle</td>\n",
       "      <td>3</td>\n",
       "      <td>NaT</td>\n",
       "    </tr>\n",
       "    <tr>\n",
       "      <th>1</th>\n",
       "      <td>Employee 2</td>\n",
       "      <td>Unit 1</td>\n",
       "      <td>Senior</td>\n",
       "      <td>High-Senior</td>\n",
       "      <td>7</td>\n",
       "      <td>NaT</td>\n",
       "    </tr>\n",
       "    <tr>\n",
       "      <th>2</th>\n",
       "      <td>Employee 3</td>\n",
       "      <td>Unit 1</td>\n",
       "      <td>Senior</td>\n",
       "      <td>High-Senior</td>\n",
       "      <td>9</td>\n",
       "      <td>NaT</td>\n",
       "    </tr>\n",
       "    <tr>\n",
       "      <th>3</th>\n",
       "      <td>Employee 4</td>\n",
       "      <td>Unit 1</td>\n",
       "      <td>Middle</td>\n",
       "      <td>Middle</td>\n",
       "      <td>1</td>\n",
       "      <td>NaT</td>\n",
       "    </tr>\n",
       "    <tr>\n",
       "      <th>4</th>\n",
       "      <td>Employee 6</td>\n",
       "      <td>Unit 1</td>\n",
       "      <td>Middle</td>\n",
       "      <td>Middle</td>\n",
       "      <td>2</td>\n",
       "      <td>NaT</td>\n",
       "    </tr>\n",
       "  </tbody>\n",
       "</table>\n",
       "</div>"
      ],
      "text/plain": [
       "     Employee Department Grade Before  Grade After  Satisfaction Mark  \\\n",
       "0  Employee 1     Unit 1       Middle       Middle                  3   \n",
       "1  Employee 2     Unit 1       Senior  High-Senior                  7   \n",
       "2  Employee 3     Unit 1       Senior  High-Senior                  9   \n",
       "3  Employee 4     Unit 1       Middle       Middle                  1   \n",
       "4  Employee 6     Unit 1       Middle       Middle                  2   \n",
       "\n",
       "  Date of Dismissal  \n",
       "0               NaT  \n",
       "1               NaT  \n",
       "2               NaT  \n",
       "3               NaT  \n",
       "4               NaT  "
      ]
     },
     "execution_count": 3,
     "metadata": {},
     "output_type": "execute_result"
    }
   ],
   "source": [
    "df_21.head()"
   ]
  },
  {
   "cell_type": "markdown",
   "id": "ad6a9218",
   "metadata": {},
   "source": [
    "Посмотрим общую информацию по таблицам:"
   ]
  },
  {
   "cell_type": "code",
   "execution_count": 4,
   "id": "f4a8999c",
   "metadata": {},
   "outputs": [
    {
     "name": "stdout",
     "output_type": "stream",
     "text": [
      "<class 'pandas.core.frame.DataFrame'>\n",
      "RangeIndex: 494 entries, 0 to 493\n",
      "Data columns (total 6 columns):\n",
      " #   Column             Non-Null Count  Dtype         \n",
      "---  ------             --------------  -----         \n",
      " 0   Employee           494 non-null    object        \n",
      " 1   Department         494 non-null    object        \n",
      " 2   Grade Before       494 non-null    object        \n",
      " 3   Grade After        494 non-null    object        \n",
      " 4   Satisfaction Mark  494 non-null    int64         \n",
      " 5   Date of Dismissal  41 non-null     datetime64[ns]\n",
      "dtypes: datetime64[ns](1), int64(1), object(4)\n",
      "memory usage: 23.3+ KB\n"
     ]
    }
   ],
   "source": [
    "df_20.info()"
   ]
  },
  {
   "cell_type": "code",
   "execution_count": 5,
   "id": "5453b8a8",
   "metadata": {},
   "outputs": [
    {
     "name": "stdout",
     "output_type": "stream",
     "text": [
      "<class 'pandas.core.frame.DataFrame'>\n",
      "RangeIndex: 602 entries, 0 to 601\n",
      "Data columns (total 6 columns):\n",
      " #   Column             Non-Null Count  Dtype         \n",
      "---  ------             --------------  -----         \n",
      " 0   Employee           602 non-null    object        \n",
      " 1   Department         602 non-null    object        \n",
      " 2   Grade Before       602 non-null    object        \n",
      " 3   Grade After        602 non-null    object        \n",
      " 4   Satisfaction Mark  602 non-null    int64         \n",
      " 5   Date of Dismissal  60 non-null     datetime64[ns]\n",
      "dtypes: datetime64[ns](1), int64(1), object(4)\n",
      "memory usage: 28.3+ KB\n"
     ]
    }
   ],
   "source": [
    "df_21.info()"
   ]
  },
  {
   "cell_type": "markdown",
   "id": "6b5f513a",
   "metadata": {},
   "source": [
    "Видим что записей за 2021 год у нас явно больше. \n",
    "\n",
    "По каждому работнику отсутствует информация о дате начала работы - по этой причине мы не можем оценить такой показатель, как средний рабочий стаж в компании. В свою очередь эти данные, при достаточном кол-ве исторических данных, позволили бы построить предективную модель по работниками которые скоро захотят покинуть компанию (как пример высококвалицицированные специалисты, достигшие потолка по зарплате/рабочим задачам). \n",
    "\n",
    "Так же отсутсвуют данные по возрасту работника (понимание среднего возраста коллектива может помочь в выстраивании политики компании).\n",
    "\n",
    "Так же отмечаем что записи в столбце **Employee** подписаны просто как Employee 1,2,3 ... Это в данном примере не позволит нам персонализировать информацию, как например получить количество повышений одним человеком. Так же этот факт не позволяет нам сделать выборку для проведения полноценного эксперимента для зависимых данных.\n",
    "\n",
    "Принимая это во внимание, проверки гипотез будем делать с помощью непрараметрических тестов."
   ]
  },
  {
   "cell_type": "markdown",
   "id": "e71ce735",
   "metadata": {},
   "source": [
    "# Предобработка данных "
   ]
  },
  {
   "cell_type": "markdown",
   "id": "c8988497",
   "metadata": {
    "slideshow": {
     "slide_type": "fragment"
    }
   },
   "source": [
    "Приведем названия столбцов к удобному формату:"
   ]
  },
  {
   "cell_type": "code",
   "execution_count": 6,
   "id": "27041633",
   "metadata": {},
   "outputs": [],
   "source": [
    "def good_columns_name(df):\n",
    "    df.columns = [_.lower() for _ in df.columns]\n",
    "    df.columns = [_.replace(' ','_') for _ in df.columns]"
   ]
  },
  {
   "cell_type": "code",
   "execution_count": 7,
   "id": "81fbbe39",
   "metadata": {},
   "outputs": [],
   "source": [
    "good_columns_name(df_20)\n",
    "good_columns_name(df_21)"
   ]
  },
  {
   "cell_type": "markdown",
   "id": "9978db4a",
   "metadata": {
    "slideshow": {
     "slide_type": "fragment"
    }
   },
   "source": [
    "Сделаем кодировку для греда, как для ранговой переменной:"
   ]
  },
  {
   "cell_type": "code",
   "execution_count": 8,
   "id": "bbc99183",
   "metadata": {},
   "outputs": [],
   "source": [
    "di = {'Junior': 1, 'Middle': 2, 'Senior': 3, 'High-Senior': 4}\n",
    "df_20 = df_20.replace({'grade_after':di, 'grade_before':di})\n",
    "df_21 = df_21.replace({'grade_after':di, 'grade_before':di})"
   ]
  },
  {
   "cell_type": "markdown",
   "id": "8917c35d",
   "metadata": {},
   "source": [
    "Проверим данные на наличие дубликатов:"
   ]
  },
  {
   "cell_type": "code",
   "execution_count": 9,
   "id": "31d4557e",
   "metadata": {},
   "outputs": [
    {
     "data": {
      "text/plain": [
       "False    494\n",
       "dtype: int64"
      ]
     },
     "execution_count": 9,
     "metadata": {},
     "output_type": "execute_result"
    }
   ],
   "source": [
    "df_20.duplicated().value_counts()"
   ]
  },
  {
   "cell_type": "code",
   "execution_count": 10,
   "id": "aa275509",
   "metadata": {},
   "outputs": [
    {
     "data": {
      "text/plain": [
       "False    602\n",
       "dtype: int64"
      ]
     },
     "execution_count": 10,
     "metadata": {},
     "output_type": "execute_result"
    }
   ],
   "source": [
    "df_21.duplicated().value_counts()"
   ]
  },
  {
   "cell_type": "markdown",
   "id": "c9b8ce3e",
   "metadata": {},
   "source": [
    "Посмотрим на данные по каждому признаку"
   ]
  },
  {
   "cell_type": "markdown",
   "id": "c433cf1e",
   "metadata": {},
   "source": [
    "2020 год:"
   ]
  },
  {
   "cell_type": "code",
   "execution_count": 11,
   "id": "46232e49",
   "metadata": {},
   "outputs": [
    {
     "name": "stdout",
     "output_type": "stream",
     "text": [
      "DEPARTMENT\n",
      "count        494\n",
      "unique         5\n",
      "top       Unit 3\n",
      "freq         127\n",
      "Name: department, dtype: object\n",
      "******************************\n",
      " \n",
      "GRADE_BEFORE\n",
      "count   494.00\n",
      "mean      1.72\n",
      "std       0.87\n",
      "min       1.00\n",
      "25%       1.00\n",
      "50%       1.00\n",
      "75%       2.00\n",
      "max       4.00\n",
      "Name: grade_before, dtype: float64\n",
      "******************************\n",
      " \n",
      "GRADE_AFTER\n",
      "count   494.00\n",
      "mean      2.20\n",
      "std       0.97\n",
      "min       1.00\n",
      "25%       1.00\n",
      "50%       2.00\n",
      "75%       3.00\n",
      "max       4.00\n",
      "Name: grade_after, dtype: float64\n",
      "******************************\n",
      " \n",
      "SATISFACTION_MARK\n",
      "count   494.00\n",
      "mean      6.06\n",
      "std       2.73\n",
      "min       0.00\n",
      "25%       4.00\n",
      "50%       6.00\n",
      "75%       8.00\n",
      "max      10.00\n",
      "Name: satisfaction_mark, dtype: float64\n",
      "******************************\n",
      " \n",
      "DATE_OF_DISMISSAL\n",
      "count                      41\n",
      "unique                     39\n",
      "top       2020-10-08 00:00:00\n",
      "freq                        2\n",
      "first     2020-01-13 00:00:00\n",
      "last      2022-12-29 00:00:00\n",
      "Name: date_of_dismissal, dtype: object\n",
      "******************************\n",
      " \n"
     ]
    }
   ],
   "source": [
    "for _ in df_20.columns[1::]:\n",
    "    print(_.upper())\n",
    "    print(df_20[_].describe())\n",
    "    print('*'*30)\n",
    "    print(' ')"
   ]
  },
  {
   "cell_type": "markdown",
   "id": "48906ca3",
   "metadata": {},
   "source": [
    "2021 год:"
   ]
  },
  {
   "cell_type": "code",
   "execution_count": 12,
   "id": "e26768c1",
   "metadata": {},
   "outputs": [
    {
     "name": "stdout",
     "output_type": "stream",
     "text": [
      "DEPARTMENT\n",
      "count        602\n",
      "unique         5\n",
      "top       Unit 3\n",
      "freq         164\n",
      "Name: department, dtype: object\n",
      "******************************\n",
      " \n",
      "GRADE_BEFORE\n",
      "count   602.00\n",
      "mean      2.02\n",
      "std       0.99\n",
      "min       1.00\n",
      "25%       1.00\n",
      "50%       2.00\n",
      "75%       3.00\n",
      "max       4.00\n",
      "Name: grade_before, dtype: float64\n",
      "******************************\n",
      " \n",
      "GRADE_AFTER\n",
      "count   602.00\n",
      "mean      2.44\n",
      "std       1.00\n",
      "min       1.00\n",
      "25%       2.00\n",
      "50%       2.00\n",
      "75%       3.00\n",
      "max       4.00\n",
      "Name: grade_after, dtype: float64\n",
      "******************************\n",
      " \n",
      "SATISFACTION_MARK\n",
      "count   602.00\n",
      "mean      5.10\n",
      "std       3.16\n",
      "min       0.00\n",
      "25%       2.00\n",
      "50%       5.00\n",
      "75%       8.00\n",
      "max      10.00\n",
      "Name: satisfaction_mark, dtype: float64\n",
      "******************************\n",
      " \n",
      "DATE_OF_DISMISSAL\n",
      "count                      60\n",
      "unique                     53\n",
      "top       2021-04-20 00:00:00\n",
      "freq                        2\n",
      "first     2021-01-01 00:00:00\n",
      "last      2022-06-20 00:00:00\n",
      "Name: date_of_dismissal, dtype: object\n",
      "******************************\n",
      " \n"
     ]
    }
   ],
   "source": [
    "for _ in df_21.columns[1::]:\n",
    "    print(_.upper())\n",
    "    print(df_21[_].describe())\n",
    "    print('*'*30)\n",
    "    print(' ')"
   ]
  },
  {
   "cell_type": "markdown",
   "id": "479909aa",
   "metadata": {},
   "source": [
    "# Анализ данных"
   ]
  },
  {
   "cell_type": "markdown",
   "id": "9bf72212",
   "metadata": {},
   "source": [
    "Нам необходимо ответить на вопрос, как повлияло внедрение Performance rewiew на сотрудников. Для этого проведем разведовательный анализ основных имеющихся показателей:\n",
    "\n",
    "- Грейд сотруднка: получить повышение стало легче/сложнее; изменилось распределение грейдов в компании\n",
    "- Оценка сотрудника могла улучшиться/ухудшидться \n",
    "- Введение регулярной оценки сотрудника могло подтолкнуть его к увольнению"
   ]
  },
  {
   "cell_type": "markdown",
   "id": "3fb00ae0",
   "metadata": {},
   "source": [
    "## Грейд сотрудников"
   ]
  },
  {
   "cell_type": "markdown",
   "id": "3f664792",
   "metadata": {},
   "source": [
    "Данные по грейду \"до и после\" для каждого года"
   ]
  },
  {
   "cell_type": "markdown",
   "id": "71a9f5b9",
   "metadata": {},
   "source": [
    "2020 год:"
   ]
  },
  {
   "cell_type": "code",
   "execution_count": 13,
   "id": "9e43006a",
   "metadata": {},
   "outputs": [
    {
     "data": {
      "text/html": [
       "<div>\n",
       "<style scoped>\n",
       "    .dataframe tbody tr th:only-of-type {\n",
       "        vertical-align: middle;\n",
       "    }\n",
       "\n",
       "    .dataframe tbody tr th {\n",
       "        vertical-align: top;\n",
       "    }\n",
       "\n",
       "    .dataframe thead th {\n",
       "        text-align: right;\n",
       "    }\n",
       "</style>\n",
       "<table border=\"1\" class=\"dataframe\">\n",
       "  <thead>\n",
       "    <tr style=\"text-align: right;\">\n",
       "      <th></th>\n",
       "      <th>grade</th>\n",
       "      <th>before</th>\n",
       "      <th>after</th>\n",
       "    </tr>\n",
       "  </thead>\n",
       "  <tbody>\n",
       "    <tr>\n",
       "      <th>0</th>\n",
       "      <td>4</td>\n",
       "      <td>23</td>\n",
       "      <td>61</td>\n",
       "    </tr>\n",
       "    <tr>\n",
       "      <th>1</th>\n",
       "      <td>3</td>\n",
       "      <td>68</td>\n",
       "      <td>112</td>\n",
       "    </tr>\n",
       "    <tr>\n",
       "      <th>2</th>\n",
       "      <td>2</td>\n",
       "      <td>149</td>\n",
       "      <td>188</td>\n",
       "    </tr>\n",
       "    <tr>\n",
       "      <th>3</th>\n",
       "      <td>1</td>\n",
       "      <td>254</td>\n",
       "      <td>133</td>\n",
       "    </tr>\n",
       "  </tbody>\n",
       "</table>\n",
       "</div>"
      ],
      "text/plain": [
       "   grade  before  after\n",
       "0      4      23     61\n",
       "1      3      68    112\n",
       "2      2     149    188\n",
       "3      1     254    133"
      ]
     },
     "execution_count": 13,
     "metadata": {},
     "output_type": "execute_result"
    }
   ],
   "source": [
    "x = df_20.groupby('grade_before').agg({'employee':'count'}).reset_index().rename(columns= {'employee':'before', 'grade_before':'grade'})\n",
    "y = df_20.groupby('grade_after').agg({'employee':'count'}).reset_index().rename(columns= {'employee':'after', 'grade_after':'grade'})\n",
    "x.merge(y, how = 'left', on = 'grade').sort_values('before').reset_index(drop = True)"
   ]
  },
  {
   "cell_type": "markdown",
   "id": "200b39ac",
   "metadata": {},
   "source": [
    "2021 год:"
   ]
  },
  {
   "cell_type": "code",
   "execution_count": 14,
   "id": "6328044e",
   "metadata": {},
   "outputs": [
    {
     "data": {
      "text/html": [
       "<div>\n",
       "<style scoped>\n",
       "    .dataframe tbody tr th:only-of-type {\n",
       "        vertical-align: middle;\n",
       "    }\n",
       "\n",
       "    .dataframe tbody tr th {\n",
       "        vertical-align: top;\n",
       "    }\n",
       "\n",
       "    .dataframe thead th {\n",
       "        text-align: right;\n",
       "    }\n",
       "</style>\n",
       "<table border=\"1\" class=\"dataframe\">\n",
       "  <thead>\n",
       "    <tr style=\"text-align: right;\">\n",
       "      <th></th>\n",
       "      <th>grade</th>\n",
       "      <th>before</th>\n",
       "      <th>after</th>\n",
       "    </tr>\n",
       "  </thead>\n",
       "  <tbody>\n",
       "    <tr>\n",
       "      <th>0</th>\n",
       "      <td>4</td>\n",
       "      <td>61</td>\n",
       "      <td>109</td>\n",
       "    </tr>\n",
       "    <tr>\n",
       "      <th>1</th>\n",
       "      <td>3</td>\n",
       "      <td>118</td>\n",
       "      <td>164</td>\n",
       "    </tr>\n",
       "    <tr>\n",
       "      <th>2</th>\n",
       "      <td>2</td>\n",
       "      <td>193</td>\n",
       "      <td>210</td>\n",
       "    </tr>\n",
       "    <tr>\n",
       "      <th>3</th>\n",
       "      <td>1</td>\n",
       "      <td>230</td>\n",
       "      <td>119</td>\n",
       "    </tr>\n",
       "  </tbody>\n",
       "</table>\n",
       "</div>"
      ],
      "text/plain": [
       "   grade  before  after\n",
       "0      4      61    109\n",
       "1      3     118    164\n",
       "2      2     193    210\n",
       "3      1     230    119"
      ]
     },
     "execution_count": 14,
     "metadata": {},
     "output_type": "execute_result"
    }
   ],
   "source": [
    "x = df_21.groupby('grade_before').agg({'employee':'count'}).reset_index().rename(columns= {'employee':'before', 'grade_before':'grade'})\n",
    "y = df_21.groupby('grade_after').agg({'employee':'count'}).reset_index().rename(columns= {'employee':'after', 'grade_after':'grade'})\n",
    "x.merge(y, how = 'left', on = 'grade').sort_values('before').reset_index(drop = True)"
   ]
  },
  {
   "cell_type": "markdown",
   "id": "b946048b",
   "metadata": {},
   "source": [
    "Видим стабильную тенденцию к повышению грейда в компании. После введения Performance Review картина осталась прежней."
   ]
  },
  {
   "cell_type": "code",
   "execution_count": 15,
   "id": "348a7c92",
   "metadata": {},
   "outputs": [
    {
     "data": {
      "image/png": "[encoded data removed]",
      "text/plain": [
       "<Figure size 720x576 with 4 Axes>"
      ]
     },
     "metadata": {
      "needs_background": "light"
     },
     "output_type": "display_data"
    }
   ],
   "source": [
    "fig = plt.figure(figsize=(10,8))\n",
    "gs = fig.add_gridspec(2, 2)\n",
    "\n",
    "ax = fig.add_subplot(gs[0, 0])\n",
    "\n",
    "sns.histplot(data=df_20['grade_before'], fill=False, bins = 4)\n",
    "ax.set_title('2020')\n",
    "\n",
    "ax = fig.add_subplot(gs[0, 1])\n",
    "sns.histplot(data=df_21['grade_before'], fill=False, bins = 4);\n",
    "ax.set_title('2021')\n",
    "\n",
    "ax = fig.add_subplot(gs[1, 0])\n",
    "sns.histplot(data=df_20['grade_after'], fill=False, bins = 4)\n",
    "\n",
    "ax = fig.add_subplot(gs[1, 1])\n",
    "sns.histplot(data=df_21['grade_after'], fill=False, bins = 4);\n",
    "\n",
    "fig.tight_layout()"
   ]
  },
  {
   "cell_type": "markdown",
   "id": "9d11df54",
   "metadata": {},
   "source": [
    "Из графиков видно что распределения по грейду остались очень похожи, но за счет увеличение штата джунами, и дальнешего перетикания сотрудников, средние оценки изменились."
   ]
  },
  {
   "cell_type": "markdown",
   "id": "1faba4d0",
   "metadata": {},
   "source": [
    "Для анализа влияния введения регулярного Performance Review на грейд сотрудника нам не хватает данных за прошлые года. На имеющихся данных мы не можем понять общую динамику повышений или увольнений, что не может нам позволить оценить эффект именно Performance Review. "
   ]
  },
  {
   "cell_type": "markdown",
   "id": "3a0735f9",
   "metadata": {},
   "source": [
    "Поэтомы мы можем провести оценку влияния Performance Review на satisfaction_mark."
   ]
  },
  {
   "cell_type": "markdown",
   "id": "78516fd4",
   "metadata": {},
   "source": [
    "## Satisfaction_mark"
   ]
  },
  {
   "cell_type": "markdown",
   "id": "71ed0fa0",
   "metadata": {},
   "source": [
    "Для начала посмотрим на гистограмму значений satisfaction_mark по данным за 2020 и 2021 год:"
   ]
  },
  {
   "cell_type": "code",
   "execution_count": 16,
   "id": "6fb173b8",
   "metadata": {},
   "outputs": [
    {
     "data": {
      "image/png": "[encoded data removed]",
      "text/plain": [
       "<Figure size 720x288 with 2 Axes>"
      ]
     },
     "metadata": {
      "needs_background": "light"
     },
     "output_type": "display_data"
    }
   ],
   "source": [
    "fig = plt.figure(figsize=(10,4))\n",
    "gs = fig.add_gridspec(1, 2)\n",
    "\n",
    "ax = fig.add_subplot(gs[0, 0])\n",
    "\n",
    "sns.histplot(data=df_20['satisfaction_mark'], fill=False, bins = 11)\n",
    "ax.set_title('2020')\n",
    "\n",
    "ax = fig.add_subplot(gs[0, 1])\n",
    "sns.histplot(data=df_21['satisfaction_mark'], fill=False, bins = 11);\n",
    "ax.set_title('2021')\n",
    "\n",
    "fig.tight_layout()"
   ]
  },
  {
   "cell_type": "code",
   "execution_count": 17,
   "id": "9a8dbf49",
   "metadata": {},
   "outputs": [
    {
     "name": "stdout",
     "output_type": "stream",
     "text": [
      "mean(x1) = 6.06\n",
      "mean(x2) = 5.1\n",
      "---------------\n",
      "median(x1) = 6.0\n",
      "median(x2) = 5.0\n",
      "---------------\n",
      "std(x1) = 2.73\n",
      "std(x2) = 3.16\n"
     ]
    }
   ],
   "source": [
    "x1 = list(df_20['satisfaction_mark'])\n",
    "x2 = list(df_21['satisfaction_mark'])\n",
    "\n",
    "print(f'mean(x1) = {np.mean(x1):.3}')\n",
    "print(f'mean(x2) = {np.mean(x2):.3}')\n",
    "print('-'*15)\n",
    "print(f'median(x1) = {np.median(x1):.3}')\n",
    "print(f'median(x2) = {np.median(x2):.3}')\n",
    "print('-'*15)\n",
    "print(f'std(x1) = {np.std(x1, ddof=1):.3}')\n",
    "print(f'std(x2) = {np.std(x2, ddof=1):.3}')"
   ]
  },
  {
   "cell_type": "markdown",
   "id": "71a10123",
   "metadata": {},
   "source": [
    "Как видим форма распределения значительно изменилась, а среднее значение/медиана оценки снизилась по сравнению с 2020 годом. Мы можем поспешно сделать вывод, что если средняя оценка упала, то мы получили негативный эффект, но для начала необходимо провести оценкту статистической значимости различия.\n",
    "\n",
    "В нашем случае мы имеем две связанные выборки, так как это классическая задача до/после, несмотря на то что кол-во сотрудников различное и появились новые участники. Тк у нас в данных датасетах нет UID, то мы не можем составить парные, либо же чисто независимые выборки.\n",
    "\n",
    "Сделаем допущение что выборки парные.\n",
    "\n",
    "Остается понять, какой тест применять, параметрический (тест Стьюдента для парных выборок) или непараметрический(тест Уилкоксона). Сравним дисперсии чтобы понять, можем ли мы применять параметрический тест для связанных выборок:"
   ]
  },
  {
   "cell_type": "code",
   "execution_count": 18,
   "id": "ee230d62",
   "metadata": {},
   "outputs": [
    {
     "data": {
      "text/plain": [
       "0.7501536691187394"
      ]
     },
     "execution_count": 18,
     "metadata": {},
     "output_type": "execute_result"
    }
   ],
   "source": [
    "np.var(x1) / np.var(x2)"
   ]
  },
  {
   "cell_type": "markdown",
   "id": "b921bab7",
   "metadata": {},
   "source": [
    "Дисперсии близки, но мы все равно используем и непараметрический аналог (тест Уилкоксона)."
   ]
  },
  {
   "cell_type": "code",
   "execution_count": 19,
   "id": "6646971b",
   "metadata": {},
   "outputs": [],
   "source": [
    "x1 = random.sample(x1, 400)\n",
    "x2 = random.sample(x2, 400)"
   ]
  },
  {
   "cell_type": "code",
   "execution_count": 20,
   "id": "2f888462",
   "metadata": {},
   "outputs": [
    {
     "name": "stdout",
     "output_type": "stream",
     "text": [
      "mean(x1) = 6.02\n",
      "mean(x2) = 5.05\n",
      "---------------\n",
      "std(x1) = 2.77\n",
      "std(x2) = 3.12\n"
     ]
    }
   ],
   "source": [
    "print(f'mean(x1) = {np.mean(x1):.3}')\n",
    "print(f'mean(x2) = {np.mean(x2):.3}')\n",
    "print('-'*15)\n",
    "print(f'std(x1) = {np.std(x1, ddof=1):.3}')\n",
    "print(f'std(x2) = {np.std(x2, ddof=1):.3}')"
   ]
  },
  {
   "cell_type": "code",
   "execution_count": 21,
   "id": "1db43851",
   "metadata": {},
   "outputs": [
    {
     "data": {
      "text/plain": [
       "0.7858631834980963"
      ]
     },
     "execution_count": 21,
     "metadata": {},
     "output_type": "execute_result"
    }
   ],
   "source": [
    "np.var(x1, ddof = 1) / np.var(x2, ddof = 1)"
   ]
  },
  {
   "cell_type": "markdown",
   "id": "4c6d4860",
   "metadata": {},
   "source": [
    "### Тест Стьюдента для связанных выборок"
   ]
  },
  {
   "cell_type": "markdown",
   "id": "0782bed0",
   "metadata": {},
   "source": [
    "H0: Выборочные средние оценки равны\n",
    "\n",
    "Н1: Выборочне средние отличаются"
   ]
  },
  {
   "cell_type": "code",
   "execution_count": 22,
   "id": "662fa4c4",
   "metadata": {},
   "outputs": [
    {
     "name": "stdout",
     "output_type": "stream",
     "text": [
      "Тест Стьюдента для связанных выборок:\n",
      "Statistics=-4.62208969723536, p=5.137169938378778e-06\n",
      "Отвергаем нулевую гипотезу\n"
     ]
    }
   ],
   "source": [
    "print('Тест Стьюдента для связанных выборок:')\n",
    "stat, p  = stats.ttest_rel(x2, x1)\n",
    "print('Statistics={}, p={}'.format(stat, p))\n",
    "\n",
    "alpha = 0.05\n",
    "if p > alpha:\n",
    "    print('Нулевая гипотеза верна')\n",
    "else:\n",
    "    print('Отвергаем нулевую гипотезу')"
   ]
  },
  {
   "cell_type": "markdown",
   "id": "17dfd157",
   "metadata": {},
   "source": [
    "Статистически значимые отличия показал даже параметрический тест Стьюдента."
   ]
  },
  {
   "cell_type": "markdown",
   "id": "071db69f",
   "metadata": {},
   "source": [
    "### Тест Уилкинсона для связанных выборок"
   ]
  },
  {
   "cell_type": "markdown",
   "id": "01d36f27",
   "metadata": {},
   "source": [
    "H0: Схожие выборки\n",
    "\n",
    "Н1: Распределения отличаются"
   ]
  },
  {
   "cell_type": "code",
   "execution_count": 23,
   "id": "7fde7252",
   "metadata": {},
   "outputs": [
    {
     "name": "stdout",
     "output_type": "stream",
     "text": [
      "Непараметрический тест Уилкоксона для связанных выборок:\n",
      "Statistics=23735.0, p=1.2474708954951295e-05\n",
      "Отвергаем нулевую гипотезу\n"
     ]
    }
   ],
   "source": [
    "print('Непараметрический тест Уилкоксона для связанных выборок:')\n",
    "stat, p = stats.wilcoxon(x2, x1)\n",
    "print('Statistics={}, p={}'.format(stat, p))\n",
    "\n",
    "alpha = 0.05\n",
    "if p > alpha:\n",
    "    print('Нулевая гипотеза верна')\n",
    "else:\n",
    "    print('Отвергаем нулевую гипотезу')"
   ]
  },
  {
   "cell_type": "markdown",
   "id": "b1f2eaac",
   "metadata": {},
   "source": [
    "### Пуасоновский бустрап"
   ]
  },
  {
   "cell_type": "markdown",
   "id": "45fcee32",
   "metadata": {},
   "source": [
    "С помощью Бустрапа проиллюстрируем разницу в среднем значении оценки:"
   ]
  },
  {
   "cell_type": "code",
   "execution_count": 24,
   "id": "a060899d",
   "metadata": {},
   "outputs": [],
   "source": [
    "def bootstrap(mark1, mark2, n_bootstrap=2000):\n",
    "\n",
    "    poisson_bootstraps1 = stats.poisson(1).rvs(\n",
    "        (n_bootstrap, len(mark1))).astype(np.int64)\n",
    "\n",
    "    poisson_bootstraps2 = stats.poisson(1).rvs(\n",
    "            (n_bootstrap, len(mark2))).astype(np.int64)\n",
    "    \n",
    "    global_mark1 = (poisson_bootstraps1*mark1).mean(axis=1)\n",
    "    \n",
    "    global_mark2 = (poisson_bootstraps2*mark2).mean(axis=1)\n",
    "\n",
    "    return global_mark1, global_mark2"
   ]
  },
  {
   "cell_type": "code",
   "execution_count": 25,
   "id": "6b5ce529",
   "metadata": {},
   "outputs": [
    {
     "data": {
      "image/png": "[encoded data removed]",
      "text/plain": [
       "<Figure size 432x288 with 1 Axes>"
      ]
     },
     "metadata": {
      "needs_background": "light"
     },
     "output_type": "display_data"
    }
   ],
   "source": [
    " #подготовим данные для расчета\n",
    "mark1 = x1\n",
    "mark2 = x2\n",
    "mean_mark20, mean_mark21 = bootstrap(mark1, mark2)\n",
    "\n",
    " #визуализируем результат\n",
    "sns.histplot(mean_mark20, color = 'r', label = '2020')\n",
    "sns.histplot(mean_mark21, color = 'b', label = '2021')\n",
    "plt.xlabel(\"mean_satisfaction_mark\")\n",
    "plt.legend()\n",
    "plt.show()"
   ]
  },
  {
   "cell_type": "code",
   "execution_count": 26,
   "id": "c5852f1a",
   "metadata": {},
   "outputs": [
    {
     "data": {
      "image/png": "[encoded data removed]",
      "text/plain": [
       "<Figure size 432x288 with 1 Axes>"
      ]
     },
     "metadata": {
      "needs_background": "light"
     },
     "output_type": "display_data"
    }
   ],
   "source": [
    "sns.histplot(mean_mark21 - mean_mark20)\n",
    "plt.show()"
   ]
  },
  {
   "cell_type": "markdown",
   "id": "2eed0f14",
   "metadata": {},
   "source": [
    "Наглядно видим что средняя оценка работников упала.\n",
    "\n",
    "Понижение средней оценки, на первый взгляд означает негативный результат от введение performance rewiew, но нужно рассмотреть ситуацию более детально. "
   ]
  },
  {
   "cell_type": "markdown",
   "id": "1551d940",
   "metadata": {},
   "source": [
    "## Детальный анализ satisfaction_mark"
   ]
  },
  {
   "cell_type": "markdown",
   "id": "37004fd6",
   "metadata": {},
   "source": [
    "Оценим этот эффект для каждй группы чтобы понять в чем причина падения оценки:"
   ]
  },
  {
   "cell_type": "code",
   "execution_count": 27,
   "id": "ffb30e81",
   "metadata": {},
   "outputs": [
    {
     "data": {
      "image/png": "[encoded data removed]",
      "text/plain": [
       "<Figure size 720x576 with 4 Axes>"
      ]
     },
     "metadata": {
      "needs_background": "light"
     },
     "output_type": "display_data"
    }
   ],
   "source": [
    "fig = plt.figure(figsize=(10,8))\n",
    "gs = fig.add_gridspec(2, 2)\n",
    "\n",
    "ax = fig.add_subplot(gs[0, 0])\n",
    "sns.scatterplot(data = df_20, x = 'grade_before', y = 'satisfaction_mark')\n",
    "ax.set_title('2020')\n",
    "\n",
    "ax = fig.add_subplot(gs[0, 1])\n",
    "sns.scatterplot(data = df_21, x = 'grade_before', y = 'satisfaction_mark')\n",
    "ax.set_title('2021')\n",
    "\n",
    "ax = fig.add_subplot(gs[1, 0])\n",
    "sns.scatterplot(data = df_20, x = 'grade_after', y = 'satisfaction_mark')\n",
    "\n",
    "ax = fig.add_subplot(gs[1, 1])\n",
    "sns.scatterplot(data = df_21, x = 'grade_after', y = 'satisfaction_mark')\n",
    "\n",
    "fig.tight_layout()"
   ]
  },
  {
   "cell_type": "markdown",
   "id": "dbd9a920",
   "metadata": {},
   "source": [
    "Видим что джуны по полю grade_after начали ставить оценки только в интервале от 0 до 5, что вероятно и привело к смещению распределения."
   ]
  },
  {
   "cell_type": "code",
   "execution_count": 28,
   "id": "320c2cd7",
   "metadata": {},
   "outputs": [
    {
     "data": {
      "text/plain": [
       "grade_after\n",
       "2    90\n",
       "1    59\n",
       "dtype: int64"
      ]
     },
     "execution_count": 28,
     "metadata": {},
     "output_type": "execute_result"
    }
   ],
   "source": [
    "df_20[(df_20['grade_before']==1)&(df_20['satisfaction_mark']>5)].value_counts('grade_after')"
   ]
  },
  {
   "cell_type": "code",
   "execution_count": 29,
   "id": "82499ca4",
   "metadata": {},
   "outputs": [
    {
     "data": {
      "text/plain": [
       "grade_after\n",
       "2    111\n",
       "dtype: int64"
      ]
     },
     "execution_count": 29,
     "metadata": {},
     "output_type": "execute_result"
    }
   ],
   "source": [
    "df_21[(df_21['grade_before']==1)&(df_21['satisfaction_mark']>5)].value_counts('grade_after')"
   ]
  },
  {
   "cell_type": "markdown",
   "id": "06daa266",
   "metadata": {},
   "source": [
    "Получаем что в 2021 году не было джунов, которые поставили оценку выше 5 и не были повышены до мидла."
   ]
  },
  {
   "cell_type": "code",
   "execution_count": 30,
   "id": "74a8aae0",
   "metadata": {},
   "outputs": [
    {
     "data": {
      "text/plain": [
       "grade_after\n",
       "3    56\n",
       "2    34\n",
       "dtype: int64"
      ]
     },
     "execution_count": 30,
     "metadata": {},
     "output_type": "execute_result"
    }
   ],
   "source": [
    "df_20[(df_20['grade_before']==2)&(df_20['satisfaction_mark']>5)].value_counts('grade_after')"
   ]
  },
  {
   "cell_type": "code",
   "execution_count": 31,
   "id": "02b55b1d",
   "metadata": {},
   "outputs": [
    {
     "data": {
      "text/plain": [
       "grade_after\n",
       "3    94\n",
       "dtype: int64"
      ]
     },
     "execution_count": 31,
     "metadata": {},
     "output_type": "execute_result"
    }
   ],
   "source": [
    "df_21[(df_21['grade_before']==2)&(df_21['satisfaction_mark']>5)].value_counts('grade_after')"
   ]
  },
  {
   "cell_type": "markdown",
   "id": "f807906a",
   "metadata": {},
   "source": [
    "То же самое для мидлов"
   ]
  },
  {
   "cell_type": "code",
   "execution_count": 32,
   "id": "6d5b2b6c",
   "metadata": {},
   "outputs": [
    {
     "data": {
      "text/plain": [
       "grade_after\n",
       "4    26\n",
       "3    16\n",
       "dtype: int64"
      ]
     },
     "execution_count": 32,
     "metadata": {},
     "output_type": "execute_result"
    }
   ],
   "source": [
    "df_20[(df_20['grade_before']==3)&(df_20['satisfaction_mark']>5)].value_counts('grade_after')"
   ]
  },
  {
   "cell_type": "code",
   "execution_count": 33,
   "id": "1ff9c6bc",
   "metadata": {},
   "outputs": [
    {
     "data": {
      "text/plain": [
       "grade_after\n",
       "4    48\n",
       "dtype: int64"
      ]
     },
     "execution_count": 33,
     "metadata": {},
     "output_type": "execute_result"
    }
   ],
   "source": [
    "df_21[(df_21['grade_before']==3)&(df_21['satisfaction_mark']>5)].value_counts('grade_after')"
   ]
  },
  {
   "cell_type": "markdown",
   "id": "03e11189",
   "metadata": {},
   "source": [
    "И для сеньоров."
   ]
  },
  {
   "cell_type": "markdown",
   "id": "61d046c8",
   "metadata": {},
   "source": [
    "Делаем вывод, с введением системы регулярной оценки, оценка самих сотрудников резко дифернцировалась.\n",
    "\n",
    "Те кто не получил повышения стали ставить более низкие оценки.\n",
    "\n",
    "Изучим вопрос более детально."
   ]
  },
  {
   "cell_type": "markdown",
   "id": "5c5e78a0",
   "metadata": {},
   "source": [
    "### Анализ satisfaction_mark по грейдам"
   ]
  },
  {
   "cell_type": "markdown",
   "id": "24198f96",
   "metadata": {},
   "source": [
    "***Здесь и далее будем применять непараметрический тест Манна-Уитни для расчета p-value и Пуасоновский бустрап для демонстрации получаемых результатов.***"
   ]
  },
  {
   "cell_type": "markdown",
   "id": "c18f9bc5",
   "metadata": {},
   "source": [
    "Сравним знаение полученных оценок в разрезе грейда в лоб:"
   ]
  },
  {
   "cell_type": "code",
   "execution_count": 34,
   "id": "b048d726",
   "metadata": {},
   "outputs": [
    {
     "data": {
      "image/png": "[encoded data removed]",
      "text/plain": [
       "<Figure size 432x288 with 1 Axes>"
      ]
     },
     "metadata": {
      "needs_background": "light"
     },
     "output_type": "display_data"
    },
    {
     "name": "stdout",
     "output_type": "stream",
     "text": [
      "statistic = 12510.5, pvalue = 1.0746813744546692e-15\n"
     ]
    },
    {
     "data": {
      "image/png": "[encoded data removed]",
      "text/plain": [
       "<Figure size 432x288 with 1 Axes>"
      ]
     },
     "metadata": {
      "needs_background": "light"
     },
     "output_type": "display_data"
    },
    {
     "name": "stdout",
     "output_type": "stream",
     "text": [
      "statistic = 22511.0, pvalue = 0.015030948711675525\n"
     ]
    },
    {
     "data": {
      "image/png": "[encoded data removed]",
      "text/plain": [
       "<Figure size 432x288 with 1 Axes>"
      ]
     },
     "metadata": {
      "needs_background": "light"
     },
     "output_type": "display_data"
    },
    {
     "name": "stdout",
     "output_type": "stream",
     "text": [
      "statistic = 10585.0, pvalue = 0.0305022052874613\n"
     ]
    },
    {
     "data": {
      "image/png": "[encoded data removed]",
      "text/plain": [
       "<Figure size 432x288 with 1 Axes>"
      ]
     },
     "metadata": {
      "needs_background": "light"
     },
     "output_type": "display_data"
    },
    {
     "name": "stdout",
     "output_type": "stream",
     "text": [
      "statistic = 3086.5, pvalue = 0.43715687963624916\n"
     ]
    }
   ],
   "source": [
    " for _ in range(1,5,1):\n",
    "    x1 = df_20[df_20['grade_after'] == _]\n",
    "    x2 = df_21[df_21['grade_after'] == _]\n",
    "    #подготовим данные для расчета\n",
    "    mark1 = x1['satisfaction_mark'].to_numpy()\n",
    "    mark2 = x2['satisfaction_mark'].to_numpy()\n",
    "    mean_mark20, mean_mark21 = bootstrap(mark1, mark2)\n",
    "    #визуализируем результат\n",
    "    sns.histplot(mean_mark20, color = 'r', label = '2020')\n",
    "    sns.histplot(mean_mark21, color = 'b', label = '2021')\n",
    "    plt.xlabel(\"mean_satisfaction_mark\")\n",
    "    plt.title(f\"GRADE AFTER: {_}\")\n",
    "    plt.legend()\n",
    "    plt.show()\n",
    "    stat, pValue = stats.mannwhitneyu(x1['satisfaction_mark'], x2['satisfaction_mark'], alternative='two-sided')\n",
    "    print(f'statistic = {stat}, pvalue = {pValue}')"
   ]
  },
  {
   "cell_type": "markdown",
   "id": "1472ee42",
   "metadata": {},
   "source": [
    "Значимые статистические различия есть для всех грейдов кроме 4ого (High-Senior). Наглядно видим что средние значения оценок по грейдам упало. "
   ]
  },
  {
   "cell_type": "markdown",
   "id": "079b2a1a",
   "metadata": {},
   "source": [
    "Видим статистически значимиые результаты: для всех грейдов, кроме самого высокого, оценки работников статистически значимо снизились!\n",
    "\n",
    "\n",
    "Появляется идея проверить оценки людей которые получали повышение и не получали его.\n"
   ]
  },
  {
   "cell_type": "markdown",
   "id": "c02abcbd",
   "metadata": {},
   "source": [
    "### Анализ satisfaction_mark в разрезе повышения"
   ]
  },
  {
   "cell_type": "markdown",
   "id": "88370461",
   "metadata": {},
   "source": [
    "\n",
    "Проверим средние оценки тех кто **не получил** повышение"
   ]
  },
  {
   "cell_type": "code",
   "execution_count": 35,
   "id": "49560c4d",
   "metadata": {},
   "outputs": [
    {
     "data": {
      "image/png": "[encoded data removed]",
      "text/plain": [
       "<Figure size 432x288 with 1 Axes>"
      ]
     },
     "metadata": {
      "needs_background": "light"
     },
     "output_type": "display_data"
    },
    {
     "name": "stdout",
     "output_type": "stream",
     "text": [
      "statistic = 63121.0, pvalue = 1.1833040155368944e-19\n"
     ]
    }
   ],
   "source": [
    "x1 = df_20[df_20['grade_after'] == df_20['grade_before']]\n",
    "x2 = df_21[df_21['grade_after'] == df_21['grade_before']]\n",
    "#подготовим данные для расчета\n",
    "mark1 = x1['satisfaction_mark'].to_numpy()\n",
    "mark2 = x2['satisfaction_mark'].to_numpy()\n",
    "mean_mark20, mean_mark21 = bootstrap(mark1, mark2)\n",
    "#визуализируем результат\n",
    "sns.histplot(mean_mark20, color = 'r', label = '2020')\n",
    "sns.histplot(mean_mark21, color = 'b', label = '2021')\n",
    "plt.xlabel(\"mean_satisfaction_mark\")\n",
    "plt.legend()\n",
    "plt.show()\n",
    "stat, pValue = stats.mannwhitneyu(x1['satisfaction_mark'], x2['satisfaction_mark'], alternative='two-sided')\n",
    "print(f'statistic = {stat}, pvalue = {pValue}')"
   ]
  },
  {
   "cell_type": "markdown",
   "id": "4fbf93c1",
   "metadata": {},
   "source": [
    "Получаем интересный результат, что в 2020 году satisfaction_mark у сотрудников без повышения в среднем имел значительно лучшие значения в сравнении с 2021 годом. "
   ]
  },
  {
   "cell_type": "markdown",
   "id": "a011e915",
   "metadata": {},
   "source": [
    "Проверим средние оценки тех кто **получил** повышение:"
   ]
  },
  {
   "cell_type": "code",
   "execution_count": 36,
   "id": "664c87f1",
   "metadata": {},
   "outputs": [
    {
     "data": {
      "image/png": "[encoded data removed]",
      "text/plain": [
       "<Figure size 432x288 with 1 Axes>"
      ]
     },
     "metadata": {
      "needs_background": "light"
     },
     "output_type": "display_data"
    },
    {
     "name": "stdout",
     "output_type": "stream",
     "text": [
      "statistic = 21912.0, pvalue = 4.2716198174187595e-08\n"
     ]
    }
   ],
   "source": [
    "x1 = df_20[df_20['grade_after']>df_20['grade_before']]\n",
    "x2 = df_21[df_21['grade_after']>df_21['grade_before']]\n",
    "#подготовим данные для расчета\n",
    "mark1 = x1['satisfaction_mark'].to_numpy()\n",
    "mark2 = x2['satisfaction_mark'].to_numpy()\n",
    "mean_mark20, mean_mark21 = bootstrap(mark1, mark2)\n",
    "#визуализируем результат\n",
    "sns.histplot(mean_mark20, color = 'r', label = '2020')\n",
    "sns.histplot(mean_mark21, color = 'b', label = '2021')\n",
    "plt.xlabel(\"mean_satisfaction_mark\")\n",
    "plt.legend()\n",
    "plt.show()\n",
    "stat, pValue = stats.mannwhitneyu(x1['satisfaction_mark'], x2['satisfaction_mark'], alternative='two-sided')\n",
    "print(f'statistic = {stat}, pvalue = {pValue}')"
   ]
  },
  {
   "cell_type": "markdown",
   "id": "5f59476b",
   "metadata": {},
   "source": [
    "А вот тут картина соврешненно иная."
   ]
  },
  {
   "cell_type": "markdown",
   "id": "d7109e1a",
   "metadata": {},
   "source": [
    "### Анализ satisfaction_mark в разрезе факта повышения и грейда"
   ]
  },
  {
   "cell_type": "code",
   "execution_count": 37,
   "id": "df9d7422",
   "metadata": {},
   "outputs": [
    {
     "data": {
      "image/png": "[encoded data removed]",
      "text/plain": [
       "<Figure size 432x288 with 1 Axes>"
      ]
     },
     "metadata": {
      "needs_background": "light"
     },
     "output_type": "display_data"
    },
    {
     "name": "stdout",
     "output_type": "stream",
     "text": [
      "statistic = 4918.5, pvalue = 0.00036162269261802335\n"
     ]
    },
    {
     "data": {
      "image/png": "[encoded data removed]",
      "text/plain": [
       "<Figure size 432x288 with 1 Axes>"
      ]
     },
     "metadata": {
      "needs_background": "light"
     },
     "output_type": "display_data"
    },
    {
     "name": "stdout",
     "output_type": "stream",
     "text": [
      "statistic = 2799.0, pvalue = 0.001521433456263413\n"
     ]
    },
    {
     "data": {
      "image/png": "[encoded data removed]",
      "text/plain": [
       "<Figure size 432x288 with 1 Axes>"
      ]
     },
     "metadata": {
      "needs_background": "light"
     },
     "output_type": "display_data"
    },
    {
     "name": "stdout",
     "output_type": "stream",
     "text": [
      "statistic = 613.0, pvalue = 0.008379532134268747\n"
     ]
    }
   ],
   "source": [
    " for _ in range(2,5,1):\n",
    "    x1 = df_20[(df_20['grade_before'] < df_20['grade_after'])&(df_20['grade_after'] == _)]\n",
    "    x2 = df_21[(df_21['grade_before'] < df_21['grade_after'])&(df_21['grade_after'] == _)]\n",
    "     #подготовим данные для расчета\n",
    "    mark1 = x1['satisfaction_mark'].to_numpy()\n",
    "    mark2 = x2['satisfaction_mark'].to_numpy()\n",
    "    mean_mark20, mean_mark21 = bootstrap(mark1, mark2)\n",
    "     #визуализируем результат\n",
    "    sns.histplot(mean_mark20, color = 'r', label = '2020')\n",
    "    sns.histplot(mean_mark21, color = 'b', label = '2021')\n",
    "    plt.xlabel(\"mean_satisfaction_mark\")\n",
    "    plt.title(f'GRADE: {_}')\n",
    "    plt.legend()\n",
    "    plt.show()\n",
    "    stat, pValue = stats.mannwhitneyu(x1['satisfaction_mark'], x2['satisfaction_mark'], alternative='two-sided')\n",
    "    print(f'statistic = {stat}, pvalue = {pValue}')"
   ]
  },
  {
   "cell_type": "markdown",
   "id": "c30c0233",
   "metadata": {},
   "source": [
    "Когда мы смотрим на средние оценки сотрудников которые получили повышение, картина обратная."
   ]
  },
  {
   "cell_type": "markdown",
   "id": "ecd88ff5",
   "metadata": {},
   "source": [
    "Т.е. сотрудники получившие повышение в 2021 году, дают в среднем лучшую оценку чем те кто получил повышение в 2020."
   ]
  },
  {
   "cell_type": "markdown",
   "id": "94421e28",
   "metadata": {},
   "source": [
    "На основании полученных результатов, можем предположить что в 2021 году оценки стальи более категоричны - те сотрудники, получили повышение стали давать более высокие оценки, а те сотрудники что осталсиь с прежним грейдом, соотвественно ставить более низкие оценки."
   ]
  },
  {
   "cell_type": "markdown",
   "id": "0c3b356b",
   "metadata": {},
   "source": [
    "## Проверим уволенных сотрудников:"
   ]
  },
  {
   "cell_type": "code",
   "execution_count": 38,
   "id": "5d4b7cce",
   "metadata": {},
   "outputs": [],
   "source": [
    "df_dis_20 = df_20[df_20['date_of_dismissal'].notnull()]\n",
    "df_dis_21 = df_21[df_21['date_of_dismissal'].notnull()]"
   ]
  },
  {
   "cell_type": "code",
   "execution_count": 39,
   "id": "5e8d2559",
   "metadata": {},
   "outputs": [
    {
     "data": {
      "image/png": "[encoded data removed]",
      "text/plain": [
       "<Figure size 432x288 with 1 Axes>"
      ]
     },
     "metadata": {
      "needs_background": "light"
     },
     "output_type": "display_data"
    },
    {
     "name": "stdout",
     "output_type": "stream",
     "text": [
      "statistic = 1182.0, pvalue = 0.7401027515352995\n"
     ]
    }
   ],
   "source": [
    "    x1 = df_dis_20\n",
    "    x2 = df_dis_21\n",
    "    #подготовим данные для расчета\n",
    "    mark1 = x1['satisfaction_mark'].to_numpy()\n",
    "    mark2 = x2['satisfaction_mark'].to_numpy()\n",
    "    mean_mark20, mean_mark21 = bootstrap(mark1, mark2)\n",
    "    #визуализируем результат\n",
    "    sns.histplot(mean_mark20, color = 'r', label = '2020')\n",
    "    sns.histplot(mean_mark21, color = 'b', label = '2021')\n",
    "    plt.xlabel(\"mean_satisfaction_mark\")\n",
    "    plt.legend()\n",
    "    plt.show()\n",
    "    stat, pValue = stats.mannwhitneyu(x1['satisfaction_mark'], x2['satisfaction_mark'], alternative='two-sided')\n",
    "    print(f'statistic = {stat}, pvalue = {pValue}')"
   ]
  },
  {
   "cell_type": "markdown",
   "id": "e75c0b91",
   "metadata": {},
   "source": [
    "Статистически значимой разнцы в средней оценке уволенных сотрудников нет. Так же мы помним что процент уволенных сотрудников около 9-10%."
   ]
  },
  {
   "cell_type": "markdown",
   "id": "48b19672",
   "metadata": {},
   "source": [
    "# Вывод"
   ]
  },
  {
   "cell_type": "markdown",
   "id": "5e23bb5b",
   "metadata": {},
   "source": [
    "Делаем следующие заключения:\n",
    "\n",
    "Штат сотрудников в 2021 году увеличился, но пропорция грейдов имеет тот же характер.\n",
    "\n",
    "Значительного увеличения увольнений не последовало - те вывода о негативном влиянии введения регулярной оценки мы сделать не можем.\n",
    "\n",
    "В данных за 2021 год видна явная диференциация оценки. В тех записях, где происходит повышение - она строго выше 5, а там где изменения грейда нет - оценка меньше или равна 5. \n",
    "\n",
    "Соответственно, средняя оценка satisfaction_mark в 2021 году среди сотрудников которые получили повышение выше, чем в 2020 году.\n",
    "\n",
    "В данных за 2020 год распределение оценок не было так ограничено, несмотря на значимые различия в пользу тех, кого повысили. Т.е вообщем удовлетворение занимаемой должностью в компании было выше.\n",
    "\n",
    "Статистически значимого различия нет лишь в оценках сотрудников уровня high-senior\n",
    "\n",
    "Получаем, что в кадровом состеве и распределении грейдов изменений не последовало, пропорции распределений остались теми же. Процент увольнений вырос незначительно. При этом значительно поменялась оценка от сотрудников о справедливости занимаемого ими грейда. Т.е. получаем негативный результат в виде завышеных ожиданий о своем грейде от сотрудников и гораздо более резких оценках от сотрудников, которые не получили повышения.\n",
    "\n",
    "С другой стороы, те кто получил повышение, стали давать оценки значимо выше. \n",
    "\n",
    "Поэтому однозначный вывод о пользе или вреде Performance rewiew делать рано.\n",
    "\n",
    "Возможным позитивным фактором регулярной проверки компетенций сотрудников стало более быстрое и заслуженное повышение грейда, что может выражаться в уменьшении среднего стажа на одной позиции. Для проверки данной гипотезы (помимо UID, нам необходмы следющие данные:\n",
    "- Дата найма сотрудника\n",
    "- Дата повышения грейда\n",
    "\n",
    "\n",
    "Так же было бы полезно иметь:\n",
    "- Данные о возрасте сотрудника\n",
    "- дату проведения оценки "
   ]
  }
 ],
 "metadata": {
  "kernelspec": {
   "display_name": "Python 3",
   "language": "python",
   "name": "python3"
  },
  "language_info": {
   "codemirror_mode": {
    "name": "ipython",
    "version": 3
   },
   "file_extension": ".py",
   "mimetype": "text/x-python",
   "name": "python",
   "nbconvert_exporter": "python",
   "pygments_lexer": "ipython3",
   "version": "3.8.8"
  },
  "toc": {
   "base_numbering": "1",
   "nav_menu": {},
   "number_sections": true,
   "sideBar": true,
   "skip_h1_title": false,
   "title_cell": "Содержание",
   "title_sidebar": "Contents",
   "toc_cell": true,
   "toc_position": {
    "height": "calc(100% - 180px)",
    "left": "10px",
    "top": "150px",
    "width": "165px"
   },
   "toc_section_display": true,
   "toc_window_display": true
  }
 },
 "nbformat": 4,
 "nbformat_minor": 5
}
