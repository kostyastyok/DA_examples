{
 "cells": [
  {
   "cell_type": "markdown",
   "id": "f477877e-c017-48fd-840b-367f26728c4c",
   "metadata": {},
   "source": [
    "## Импорт библиотек"
   ]
  },
  {
   "cell_type": "code",
   "execution_count": 1,
   "id": "39b7b91b-bdfa-4249-9beb-3aeb6382bb35",
   "metadata": {},
   "outputs": [],
   "source": [
    "from scipy import stats\n",
    "import numpy as np\n",
    "import seaborn as sns\n",
    "import matplotlib.pyplot as plt\n",
    "from read_db.CH import Getch\n",
    "import pandas as pd"
   ]
  },
  {
   "cell_type": "markdown",
   "id": "145f4c9e-50aa-4b59-b439-ca7f6a6cd89b",
   "metadata": {},
   "source": [
    "## Выгружаем данные из таблицы"
   ]
  },
  {
   "cell_type": "code",
   "execution_count": 2,
   "id": "c81dfedf-aa16-47b5-b45a-9ea7a7b49c96",
   "metadata": {},
   "outputs": [],
   "source": [
    "query = \"\"\"\n",
    "select user_id\n",
    "    , countIf(user_id, action = 'view') as views\n",
    "    , countIf(user_id, action = 'like') as likes\n",
    "    , likes/views as ctr\n",
    "    , exp_group\n",
    "    , xxHash64(user_id)%50 as bucket\n",
    "from simulator_20220520.feed_actions\n",
    "where toDate(time) between '2022-04-24' and '2022-04-30'\n",
    "and exp_group in (1,2)\n",
    "group by user_id, exp_group\n",
    "\"\"\"\n",
    "\n",
    "df = Getch(query).df"
   ]
  },
  {
   "cell_type": "code",
   "execution_count": 3,
   "id": "4ea2b5b8-633c-4da6-bfad-8d0e248855c6",
   "metadata": {},
   "outputs": [
    {
     "data": {
      "text/html": [
       "<div>\n",
       "<style scoped>\n",
       "    .dataframe tbody tr th:only-of-type {\n",
       "        vertical-align: middle;\n",
       "    }\n",
       "\n",
       "    .dataframe tbody tr th {\n",
       "        vertical-align: top;\n",
       "    }\n",
       "\n",
       "    .dataframe thead th {\n",
       "        text-align: right;\n",
       "    }\n",
       "</style>\n",
       "<table border=\"1\" class=\"dataframe\">\n",
       "  <thead>\n",
       "    <tr style=\"text-align: right;\">\n",
       "      <th></th>\n",
       "      <th>user_id</th>\n",
       "      <th>views</th>\n",
       "      <th>likes</th>\n",
       "      <th>ctr</th>\n",
       "    </tr>\n",
       "    <tr>\n",
       "      <th>exp_group</th>\n",
       "      <th></th>\n",
       "      <th></th>\n",
       "      <th></th>\n",
       "      <th></th>\n",
       "    </tr>\n",
       "  </thead>\n",
       "  <tbody>\n",
       "    <tr>\n",
       "      <th>1</th>\n",
       "      <td>10079</td>\n",
       "      <td>10079</td>\n",
       "      <td>10079</td>\n",
       "      <td>10079</td>\n",
       "    </tr>\n",
       "    <tr>\n",
       "      <th>2</th>\n",
       "      <td>9952</td>\n",
       "      <td>9952</td>\n",
       "      <td>9952</td>\n",
       "      <td>9952</td>\n",
       "    </tr>\n",
       "  </tbody>\n",
       "</table>\n",
       "</div>"
      ],
      "text/plain": [
       "           user_id  views  likes    ctr\n",
       "exp_group                              \n",
       "1            10079  10079  10079  10079\n",
       "2             9952   9952   9952   9952"
      ]
     },
     "execution_count": 3,
     "metadata": {},
     "output_type": "execute_result"
    }
   ],
   "source": [
    "df.groupby('exp_group').count()"
   ]
  },
  {
   "cell_type": "markdown",
   "id": "7fa65363-8259-40d2-a746-508fa6327daf",
   "metadata": {},
   "source": [
    "Группы приблизительно равны. Посмотрим на распределение CTR по группам:"
   ]
  },
  {
   "cell_type": "code",
   "execution_count": 4,
   "id": "00e573cd-9ea0-48f4-b2f9-fac5dd09559f",
   "metadata": {},
   "outputs": [
    {
     "data": {
      "image/png": "[encoded data removed]",
      "text/plain": [
       "<Figure size 1152x432 with 1 Axes>"
      ]
     },
     "metadata": {},
     "output_type": "display_data"
    }
   ],
   "source": [
    "sns.set(rc={'figure.figsize': (16, 6)}, style=\"whitegrid\")\n",
    "sns.histplot(data=df,\n",
    "              x='ctr',\n",
    "              hue='exp_group',\n",
    "              palette = ['r', 'b'],\n",
    "              alpha=0.5,\n",
    "              kde=False)\n",
    "plt.show()"
   ]
  },
  {
   "cell_type": "markdown",
   "id": "ca78217b-fc2b-44e0-abbc-7ce8a7935fbd",
   "metadata": {},
   "source": [
    "## t - тест"
   ]
  },
  {
   "cell_type": "code",
   "execution_count": 5,
   "id": "de9d69e9-644b-4146-b0c1-2cc159949ccf",
   "metadata": {},
   "outputs": [
    {
     "data": {
      "text/plain": [
       "Ttest_indResult(statistic=0.7094392041270485, pvalue=0.4780623130874935)"
      ]
     },
     "execution_count": 5,
     "metadata": {},
     "output_type": "execute_result"
    }
   ],
   "source": [
    "stats.ttest_ind(df[df['exp_group'] == 1]['ctr'],\n",
    "          df[df['exp_group'] == 2]['ctr'],\n",
    "          equal_var=False)"
   ]
  },
  {
   "cell_type": "markdown",
   "id": "c524e4b3-c743-4c78-a435-a9dfcc0c73f7",
   "metadata": {},
   "source": [
    "Оба распределения скошены, а CTR группы 2 вообще не унимодально. Поэтому т-тест Стьюдента не показала статистически значимого отличия между группами."
   ]
  },
  {
   "cell_type": "markdown",
   "id": "3c1b980b-5229-4905-9420-b07968fff1bf",
   "metadata": {},
   "source": [
    "## Манна-Уитни"
   ]
  },
  {
   "cell_type": "code",
   "execution_count": 6,
   "id": "bf2c4457-d8f5-47bd-87df-5b85225f0296",
   "metadata": {},
   "outputs": [
    {
     "data": {
      "text/plain": [
       "MannwhitneyuResult(statistic=56601260.5, pvalue=6.0376484617779035e-56)"
      ]
     },
     "execution_count": 6,
     "metadata": {},
     "output_type": "execute_result"
    }
   ],
   "source": [
    "stats.mannwhitneyu(df[df['exp_group'] == 1]['ctr'],\n",
    "             df[df['exp_group'] == 2]['ctr'],\n",
    "             alternative='two-sided')"
   ]
  },
  {
   "cell_type": "markdown",
   "id": "352aea3d-0846-4903-b8af-d1e302fa6d88",
   "metadata": {},
   "source": [
    "Данный тест является непраметрическим, поэтому подобные распределения для него не срашны. Соответственно мы получили статистически значимое отличие между группами."
   ]
  },
  {
   "cell_type": "markdown",
   "id": "a088777c-308a-46db-9a76-64fcfdb901fd",
   "metadata": {},
   "source": [
    "## Сглаженный CTR"
   ]
  },
  {
   "cell_type": "code",
   "execution_count": 7,
   "id": "bf5df2cf-916d-43d3-a6d7-5ddb4ef9c356",
   "metadata": {},
   "outputs": [],
   "source": [
    "def get_smothed_ctr(user_likes, user_views, global_ctr, alpha):\n",
    "    smothed_ctr = (user_likes + alpha * global_ctr) / (user_views + alpha)\n",
    "    return smothed_ctr"
   ]
  },
  {
   "cell_type": "code",
   "execution_count": 8,
   "id": "01ca86c6-4085-415a-82d0-eebb7fdf5867",
   "metadata": {},
   "outputs": [],
   "source": [
    "global_ctr_1 = df[df.exp_group == 1].likes.sum()/df[df.exp_group == 1].views.sum()\n",
    "global_ctr_2 = df[df.exp_group == 2].likes.sum()/df[df.exp_group == 2].views.sum()\n",
    "\n",
    "group = df.copy()\n",
    "\n",
    "#задаем параметр сглаживания\n",
    "alpha_smooth = 5\n",
    "\n",
    "#рассчитаем CTR по каждой группе\n",
    "group['group_ctr'] = group.groupby('exp_group')['likes'].transform(sum) / group.groupby('exp_group')['views'].transform(sum)\n",
    "\n",
    "#считаем сглаженный ctr\n",
    "group['smothed_ctr'] = (group['likes'] + alpha_smooth * group['group_ctr']) / (group['views'] + alpha_smooth)"
   ]
  },
  {
   "cell_type": "code",
   "execution_count": 9,
   "id": "a47a04a1-6a3c-430e-bb63-f1d8d98e11ef",
   "metadata": {},
   "outputs": [
    {
     "data": {
      "text/html": [
       "<div>\n",
       "<style scoped>\n",
       "    .dataframe tbody tr th:only-of-type {\n",
       "        vertical-align: middle;\n",
       "    }\n",
       "\n",
       "    .dataframe tbody tr th {\n",
       "        vertical-align: top;\n",
       "    }\n",
       "\n",
       "    .dataframe thead th {\n",
       "        text-align: right;\n",
       "    }\n",
       "</style>\n",
       "<table border=\"1\" class=\"dataframe\">\n",
       "  <thead>\n",
       "    <tr style=\"text-align: right;\">\n",
       "      <th></th>\n",
       "      <th>user_id</th>\n",
       "      <th>views</th>\n",
       "      <th>likes</th>\n",
       "      <th>ctr</th>\n",
       "      <th>exp_group</th>\n",
       "      <th>group_ctr</th>\n",
       "      <th>smothed_ctr</th>\n",
       "    </tr>\n",
       "  </thead>\n",
       "  <tbody>\n",
       "    <tr>\n",
       "      <th>0</th>\n",
       "      <td>109963</td>\n",
       "      <td>15</td>\n",
       "      <td>3</td>\n",
       "      <td>0.200000</td>\n",
       "      <td>1</td>\n",
       "      <td>0.208027</td>\n",
       "      <td>0.202007</td>\n",
       "    </tr>\n",
       "    <tr>\n",
       "      <th>1</th>\n",
       "      <td>26117</td>\n",
       "      <td>141</td>\n",
       "      <td>32</td>\n",
       "      <td>0.226950</td>\n",
       "      <td>1</td>\n",
       "      <td>0.208027</td>\n",
       "      <td>0.226302</td>\n",
       "    </tr>\n",
       "    <tr>\n",
       "      <th>2</th>\n",
       "      <td>138232</td>\n",
       "      <td>73</td>\n",
       "      <td>18</td>\n",
       "      <td>0.246575</td>\n",
       "      <td>1</td>\n",
       "      <td>0.208027</td>\n",
       "      <td>0.244104</td>\n",
       "    </tr>\n",
       "    <tr>\n",
       "      <th>3</th>\n",
       "      <td>26295</td>\n",
       "      <td>122</td>\n",
       "      <td>33</td>\n",
       "      <td>0.270492</td>\n",
       "      <td>1</td>\n",
       "      <td>0.208027</td>\n",
       "      <td>0.268033</td>\n",
       "    </tr>\n",
       "    <tr>\n",
       "      <th>4</th>\n",
       "      <td>18392</td>\n",
       "      <td>32</td>\n",
       "      <td>7</td>\n",
       "      <td>0.218750</td>\n",
       "      <td>1</td>\n",
       "      <td>0.208027</td>\n",
       "      <td>0.217301</td>\n",
       "    </tr>\n",
       "  </tbody>\n",
       "</table>\n",
       "</div>"
      ],
      "text/plain": [
       "   user_id  views  likes       ctr  exp_group  group_ctr  smothed_ctr\n",
       "0   109963     15      3  0.200000          1   0.208027     0.202007\n",
       "1    26117    141     32  0.226950          1   0.208027     0.226302\n",
       "2   138232     73     18  0.246575          1   0.208027     0.244104\n",
       "3    26295    122     33  0.270492          1   0.208027     0.268033\n",
       "4    18392     32      7  0.218750          1   0.208027     0.217301"
      ]
     },
     "execution_count": 9,
     "metadata": {},
     "output_type": "execute_result"
    }
   ],
   "source": [
    "group.head()"
   ]
  },
  {
   "cell_type": "code",
   "execution_count": 10,
   "id": "0288e460-6fbd-4395-acdc-1e613e5c566c",
   "metadata": {},
   "outputs": [
    {
     "data": {
      "text/plain": [
       "<AxesSubplot:xlabel='smothed_ctr', ylabel='Count'>"
      ]
     },
     "execution_count": 10,
     "metadata": {},
     "output_type": "execute_result"
    },
    {
     "data": {
      "image/png": "[encoded data removed]",
      "text/plain": [
       "<Figure size 1152x432 with 1 Axes>"
      ]
     },
     "metadata": {},
     "output_type": "display_data"
    }
   ],
   "source": [
    " sns.histplot(data=group,\n",
    "              x='smothed_ctr',\n",
    "              hue='exp_group',\n",
    "              palette = ['r', 'b'],\n",
    "              alpha=0.5,\n",
    "              kde=False)"
   ]
  },
  {
   "cell_type": "code",
   "execution_count": 11,
   "id": "b653cf5f-33f9-459f-b294-862490844ac1",
   "metadata": {},
   "outputs": [
    {
     "data": {
      "text/plain": [
       "Ttest_indResult(statistic=2.2841320431616983, pvalue=0.0223769815558559)"
      ]
     },
     "execution_count": 11,
     "metadata": {},
     "output_type": "execute_result"
    }
   ],
   "source": [
    "stats.ttest_ind(group[group['exp_group'] == 1]['smothed_ctr'],\n",
    "          group[group['exp_group'] == 2]['smothed_ctr'],\n",
    "          equal_var=False)"
   ]
  },
  {
   "cell_type": "code",
   "execution_count": 12,
   "id": "e7a29e24-35b4-48b8-844a-c86ba9a2bfc5",
   "metadata": {},
   "outputs": [
    {
     "data": {
      "text/plain": [
       "MannwhitneyuResult(statistic=56925125.0, pvalue=1.6163964114270227e-61)"
      ]
     },
     "execution_count": 12,
     "metadata": {},
     "output_type": "execute_result"
    }
   ],
   "source": [
    "stats.mannwhitneyu(group[group['exp_group'] == 1]['smothed_ctr'],\n",
    "             group[group['exp_group'] == 2]['smothed_ctr'],\n",
    "             alternative='two-sided')"
   ]
  },
  {
   "cell_type": "markdown",
   "id": "51a930ad-76ee-4b83-bd96-5c4ba0116fa0",
   "metadata": {},
   "source": [
    "Сглаживание позволило повысить чувствительность т-теста. В этот раз мы с его помощью смогли отловить стат значимую разницу."
   ]
  },
  {
   "cell_type": "markdown",
   "id": "b27ff1a8-e822-43d2-a14c-7e96f9a3a4d9",
   "metadata": {},
   "source": [
    "## Пуасоновский бустреп"
   ]
  },
  {
   "cell_type": "code",
   "execution_count": 13,
   "id": "88dde113-f4d7-4398-9501-bb7d0e959323",
   "metadata": {},
   "outputs": [],
   "source": [
    "def bootstrap(likes1, views1, likes2, views2, n_bootstrap=2000):\n",
    "\n",
    "    poisson_bootstraps1 = stats.poisson(1).rvs(\n",
    "        (n_bootstrap, len(likes1))).astype(np.int64)\n",
    "\n",
    "    poisson_bootstraps2 = stats.poisson(1).rvs(\n",
    "            (n_bootstrap, len(likes2))).astype(np.int64)\n",
    "    \n",
    "    globalCTR1 = (poisson_bootstraps1*likes1).sum(axis=1)/(poisson_bootstraps1*views1).sum(axis=1)\n",
    "    \n",
    "    globalCTR2 = (poisson_bootstraps2*likes2).sum(axis=1)/(poisson_bootstraps2*views2).sum(axis=1)\n",
    "\n",
    "    return globalCTR1, globalCTR2"
   ]
  },
  {
   "cell_type": "code",
   "execution_count": 14,
   "id": "f43bf866-9622-4de8-bebc-45ed67f4ea55",
   "metadata": {},
   "outputs": [],
   "source": [
    " #подготовим данные для расчета\n",
    "likes1 = df[df['exp_group'] == 1]['likes'].to_numpy()\n",
    "views1 = df[df['exp_group'] == 1]['views'].to_numpy()\n",
    "likes2 = df[df['exp_group'] == 2]['likes'].to_numpy()\n",
    "views2 = df[df['exp_group'] == 2]['views'].to_numpy()"
   ]
  },
  {
   "cell_type": "code",
   "execution_count": 15,
   "id": "1ba3786d-5564-4647-9a90-9c6e0d66e6c4",
   "metadata": {},
   "outputs": [],
   "source": [
    "ctr1, ctr2 = bootstrap(likes1, views1, likes2, views2)"
   ]
  },
  {
   "cell_type": "code",
   "execution_count": 16,
   "id": "ebefcf3d-2cbf-4612-9bba-9f0540a4f65c",
   "metadata": {},
   "outputs": [
    {
     "data": {
      "image/png": "[encoded data removed]",
      "text/plain": [
       "<Figure size 1152x432 with 1 Axes>"
      ]
     },
     "metadata": {},
     "output_type": "display_data"
    }
   ],
   "source": [
    " #визуализируем результат\n",
    "sns.histplot(ctr1)\n",
    "sns.histplot(ctr2)\n",
    "plt.show()"
   ]
  },
  {
   "cell_type": "code",
   "execution_count": 18,
   "id": "933f693e-7523-448b-914d-1d9177c5eefe",
   "metadata": {},
   "outputs": [
    {
     "data": {
      "image/png": "[encoded data removed]",
      "text/plain": [
       "<Figure size 1152x432 with 1 Axes>"
      ]
     },
     "metadata": {},
     "output_type": "display_data"
    }
   ],
   "source": [
    "sns.histplot(ctr2 - ctr1)\n",
    "plt.show()"
   ]
  },
  {
   "cell_type": "markdown",
   "id": "4e48f84d-3217-4a5b-8af4-b01a9a1198d5",
   "metadata": {},
   "source": [
    "С помощью этого метода мы смогли наглядно продемонстрировать различие значения CTR между группами."
   ]
  },
  {
   "cell_type": "markdown",
   "id": "2c8cc155-02c5-4cc1-8428-6bb76f4d195a",
   "metadata": {},
   "source": [
    "## Бакетное преобразование"
   ]
  },
  {
   "cell_type": "code",
   "execution_count": 25,
   "id": "4f6b7c21-8ed2-4971-bf4c-63a093e1d937",
   "metadata": {},
   "outputs": [],
   "source": [
    "query = \"\"\"\n",
    "\n",
    "SELECT exp_group, bucket,\n",
    "    sum(likes)/sum(views) as bucket_ctr\n",
    "FROM (SELECT exp_group, \n",
    "        xxHash64(user_id)%50 as bucket,\n",
    "        user_id,\n",
    "        sum(action = 'like') as likes,\n",
    "        sum(action = 'view') as views,\n",
    "        likes/views as ctr\n",
    "    FROM simulator_20220520.feed_actions \n",
    "    WHERE toDate(time) between '2022-04-24' and '2022-04-30'\n",
    "        and exp_group in (1,2)\n",
    "    GROUP BY exp_group, bucket, user_id)\n",
    "GROUP BY exp_group, bucket\n",
    "\"\"\"\n",
    "\n",
    "bucket_df = Getch(query).df"
   ]
  },
  {
   "cell_type": "code",
   "execution_count": 26,
   "id": "f32acc21-6f84-41c3-bc51-3573b93bdaa0",
   "metadata": {},
   "outputs": [
    {
     "data": {
      "text/html": [
       "<div>\n",
       "<style scoped>\n",
       "    .dataframe tbody tr th:only-of-type {\n",
       "        vertical-align: middle;\n",
       "    }\n",
       "\n",
       "    .dataframe tbody tr th {\n",
       "        vertical-align: top;\n",
       "    }\n",
       "\n",
       "    .dataframe thead th {\n",
       "        text-align: right;\n",
       "    }\n",
       "</style>\n",
       "<table border=\"1\" class=\"dataframe\">\n",
       "  <thead>\n",
       "    <tr style=\"text-align: right;\">\n",
       "      <th></th>\n",
       "      <th>exp_group</th>\n",
       "      <th>bucket</th>\n",
       "      <th>bucket_ctr</th>\n",
       "    </tr>\n",
       "  </thead>\n",
       "  <tbody>\n",
       "    <tr>\n",
       "      <th>0</th>\n",
       "      <td>1</td>\n",
       "      <td>0</td>\n",
       "      <td>0.196481</td>\n",
       "    </tr>\n",
       "    <tr>\n",
       "      <th>1</th>\n",
       "      <td>2</td>\n",
       "      <td>0</td>\n",
       "      <td>0.194262</td>\n",
       "    </tr>\n",
       "    <tr>\n",
       "      <th>2</th>\n",
       "      <td>1</td>\n",
       "      <td>1</td>\n",
       "      <td>0.211887</td>\n",
       "    </tr>\n",
       "    <tr>\n",
       "      <th>3</th>\n",
       "      <td>2</td>\n",
       "      <td>1</td>\n",
       "      <td>0.215328</td>\n",
       "    </tr>\n",
       "    <tr>\n",
       "      <th>4</th>\n",
       "      <td>1</td>\n",
       "      <td>2</td>\n",
       "      <td>0.206271</td>\n",
       "    </tr>\n",
       "    <tr>\n",
       "      <th>...</th>\n",
       "      <td>...</td>\n",
       "      <td>...</td>\n",
       "      <td>...</td>\n",
       "    </tr>\n",
       "    <tr>\n",
       "      <th>95</th>\n",
       "      <td>2</td>\n",
       "      <td>47</td>\n",
       "      <td>0.195880</td>\n",
       "    </tr>\n",
       "    <tr>\n",
       "      <th>96</th>\n",
       "      <td>1</td>\n",
       "      <td>48</td>\n",
       "      <td>0.212787</td>\n",
       "    </tr>\n",
       "    <tr>\n",
       "      <th>97</th>\n",
       "      <td>2</td>\n",
       "      <td>48</td>\n",
       "      <td>0.194502</td>\n",
       "    </tr>\n",
       "    <tr>\n",
       "      <th>98</th>\n",
       "      <td>1</td>\n",
       "      <td>49</td>\n",
       "      <td>0.203169</td>\n",
       "    </tr>\n",
       "    <tr>\n",
       "      <th>99</th>\n",
       "      <td>2</td>\n",
       "      <td>49</td>\n",
       "      <td>0.196539</td>\n",
       "    </tr>\n",
       "  </tbody>\n",
       "</table>\n",
       "<p>100 rows × 3 columns</p>\n",
       "</div>"
      ],
      "text/plain": [
       "    exp_group  bucket  bucket_ctr\n",
       "0           1       0    0.196481\n",
       "1           2       0    0.194262\n",
       "2           1       1    0.211887\n",
       "3           2       1    0.215328\n",
       "4           1       2    0.206271\n",
       "..        ...     ...         ...\n",
       "95          2      47    0.195880\n",
       "96          1      48    0.212787\n",
       "97          2      48    0.194502\n",
       "98          1      49    0.203169\n",
       "99          2      49    0.196539\n",
       "\n",
       "[100 rows x 3 columns]"
      ]
     },
     "execution_count": 26,
     "metadata": {},
     "output_type": "execute_result"
    }
   ],
   "source": [
    "bucket_df"
   ]
  },
  {
   "cell_type": "code",
   "execution_count": 28,
   "id": "40d34f4a-c5a6-41dc-93f8-4cbba1b21494",
   "metadata": {},
   "outputs": [
    {
     "data": {
      "image/png": "[encoded data removed]",
      "text/plain": [
       "<Figure size 1152x432 with 1 Axes>"
      ]
     },
     "metadata": {},
     "output_type": "display_data"
    }
   ],
   "source": [
    "sns.histplot(data=bucket_df,\n",
    "              x='bucket_ctr',\n",
    "              hue='exp_group',\n",
    "              palette = ['r', 'b'],\n",
    "              bins=50,\n",
    "              alpha=0.5,\n",
    "              kde=False)\n",
    "plt.show()"
   ]
  },
  {
   "cell_type": "code",
   "execution_count": 32,
   "id": "85e0d552-0f00-47f0-a1ee-f732d86394c2",
   "metadata": {},
   "outputs": [
    {
     "data": {
      "text/plain": [
       "Ttest_indResult(statistic=5.668234732053979, pvalue=3.4455951649945907e-07)"
      ]
     },
     "execution_count": 32,
     "metadata": {},
     "output_type": "execute_result"
    }
   ],
   "source": [
    " stats.ttest_ind(bucket_df[bucket_df['exp_group'] == 1]['bucket_ctr'],\n",
    "          bucket_df[bucket_df['exp_group'] == 2]['bucket_ctr'],\n",
    "          equal_var=False)"
   ]
  },
  {
   "cell_type": "code",
   "execution_count": 33,
   "id": "f559c07c-03d0-4e13-842a-ba77562d8ac4",
   "metadata": {},
   "outputs": [
    {
     "data": {
      "text/plain": [
       "MannwhitneyuResult(statistic=1995.0, pvalue=2.859963936492646e-07)"
      ]
     },
     "execution_count": 33,
     "metadata": {},
     "output_type": "execute_result"
    }
   ],
   "source": [
    "stats.mannwhitneyu(bucket_df[bucket_df['exp_group'] == 1]['bucket_ctr'],\n",
    "             bucket_df[bucket_df['exp_group'] == 2]['bucket_ctr'],\n",
    "             alternative='two-sided')"
   ]
  },
  {
   "cell_type": "markdown",
   "id": "1ab437fb-e900-4950-a0e4-e67811280326",
   "metadata": {},
   "source": [
    "Бакетное преобразование позволило так же повысило чувствительность т теста. (Помимо большей скорости исполнения чем у бустрепа)"
   ]
  },
  {
   "cell_type": "markdown",
   "id": "35fb7a8f-0e24-49a9-a3e2-4d2bc8d570f2",
   "metadata": {},
   "source": [
    "## Выводы"
   ]
  },
  {
   "cell_type": "markdown",
   "id": "b79458d8-343f-4c50-95be-a26d3098da41",
   "metadata": {},
   "source": [
    "**Новый алгоритм не раскатываем на всех пользователей**\n",
    "\n",
    "Показатель CTR у контротльной группы оказался лучше.\n",
    "\n",
    "Требуется более детальный анализ тестовой группы,  тк видно из распределения пользователи разделились на 2 сегмента. "
   ]
  }
 ],
 "metadata": {
  "kernelspec": {
   "display_name": "Python 3 (ipykernel)",
   "language": "python",
   "name": "python3"
  },
  "language_info": {
   "codemirror_mode": {
    "name": "ipython",
    "version": 3
   },
   "file_extension": ".py",
   "mimetype": "text/x-python",
   "name": "python",
   "nbconvert_exporter": "python",
   "pygments_lexer": "ipython3",
   "version": "3.8.10"
  }
 },
 "nbformat": 4,
 "nbformat_minor": 5
}
